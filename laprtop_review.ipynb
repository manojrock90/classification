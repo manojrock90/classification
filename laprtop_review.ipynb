{
 "cells": [
  {
   "cell_type": "code",
   "execution_count": 501,
   "metadata": {},
   "outputs": [],
   "source": [
    "import numpy as np\n",
    "import pandas as pd\n",
    "import matplotlib.pyplot as plt\n",
    "import seaborn as sns\n",
    "import os\n",
    "import re\n",
    "import warnings\n",
    "warnings.filterwarnings('ignore')\n",
    "os.chdir(r\"C:\\Users\\e430420\\Downloads\\Learning\\Scripts\\INPUT\\Classification\")"
   ]
  },
  {
   "cell_type": "code",
   "execution_count": 502,
   "metadata": {},
   "outputs": [],
   "source": [
    "df = pd.read_csv(r\"C:\\Users\\e430420\\Downloads\\Learning\\Scripts\\INPUT\\Classification\\laptops_dataset_final_600.csv\")\n",
    "\n",
    "df = df.rename(columns={'overall_rating':'Avg_rating_product','no_ratings':'Total_no_rating_received',\n",
    "                'no_reviews':'Total_no_review_written','rating':'Individual_rating_user'})"
   ]
  },
  {
   "cell_type": "code",
   "execution_count": 503,
   "metadata": {},
   "outputs": [
    {
     "data": {
      "text/plain": [
       "Index(['product_name', 'Avg_rating_product', 'Total_no_rating_received',\n",
       "       'Total_no_review_written', 'Individual_rating_user', 'title', 'review'],\n",
       "      dtype='object')"
      ]
     },
     "execution_count": 503,
     "metadata": {},
     "output_type": "execute_result"
    }
   ],
   "source": [
    "df.columns"
   ]
  },
  {
   "cell_type": "markdown",
   "metadata": {},
   "source": [
    "#### Extract product name()"
   ]
  },
  {
   "cell_type": "code",
   "execution_count": 504,
   "metadata": {},
   "outputs": [
    {
     "data": {
      "application/vnd.microsoft.datawrangler.viewer.v0+json": {
       "columns": [
        {
         "name": "index",
         "rawType": "int64",
         "type": "integer"
        },
        {
         "name": "product_name",
         "rawType": "object",
         "type": "string"
        },
        {
         "name": "Avg_rating_product",
         "rawType": "float64",
         "type": "float"
        },
        {
         "name": "Total_no_rating_received",
         "rawType": "object",
         "type": "string"
        },
        {
         "name": "Total_no_review_written",
         "rawType": "object",
         "type": "string"
        },
        {
         "name": "Individual_rating_user",
         "rawType": "int64",
         "type": "integer"
        },
        {
         "name": "title",
         "rawType": "object",
         "type": "string"
        },
        {
         "name": "review",
         "rawType": "object",
         "type": "string"
        },
        {
         "name": "Product_split",
         "rawType": "object",
         "type": "unknown"
        },
        {
         "name": "Brand_name",
         "rawType": "object",
         "type": "string"
        },
        {
         "name": "Series_name",
         "rawType": "object",
         "type": "string"
        }
       ],
       "conversionMethod": "pd.DataFrame",
       "ref": "73b1dc3b-b9bc-4da2-b06b-b2a2686eaad6",
       "rows": [
        [
         "0",
         "Apple MacBook AIR Apple M2 - (8 GB/256 GB SSD/Mac OS Monterey)...",
         "4.7",
         "15,210",
         "900",
         "5",
         "Perfect product!",
         "Loved it, it's my first MacBook that I earned from my hardwork 🥺❤️",
         "['Apple', 'MacBook', 'AIR', 'Apple', 'M2', '-', '(8', 'GB/256', 'GB', 'SSD/Mac', 'OS', 'Monterey)...']",
         "Apple",
         "MacBook AIR Apple M2"
        ],
        [
         "1",
         "Apple MacBook AIR Apple M2 - (8 GB/256 GB SSD/Mac OS Monterey)...",
         "4.7",
         "15,210",
         "900",
         "5",
         "Fabulous!",
         "Battery lasted longer than my first relationship (2 days).\nListening to Arijit singh songs on full volume since then still isn't getting over. Has more warmth than her. unlike her there's two way communication here as touchpad is very responsive. fingerprint lock is nice as it only opens up to me. 5 stars for this -1 for her",
         "['Apple', 'MacBook', 'AIR', 'Apple', 'M2', '-', '(8', 'GB/256', 'GB', 'SSD/Mac', 'OS', 'Monterey)...']",
         "Apple",
         "MacBook AIR Apple M2"
        ],
        [
         "2",
         "Apple MacBook AIR Apple M2 - (8 GB/256 GB SSD/Mac OS Monterey)...",
         "4.7",
         "15,210",
         "900",
         "5",
         "Fabulous!",
         "Such a great deal.. very happy with the performance and battery life..Origional product..🥰❤️\nThank you Flipkart..!!!",
         "['Apple', 'MacBook', 'AIR', 'Apple', 'M2', '-', '(8', 'GB/256', 'GB', 'SSD/Mac', 'OS', 'Monterey)...']",
         "Apple",
         "MacBook AIR Apple M2"
        ],
        [
         "3",
         "Apple MacBook AIR Apple M2 - (8 GB/256 GB SSD/Mac OS Monterey)...",
         "4.7",
         "15,210",
         "900",
         "4",
         "Delightful",
         "Awesome build quality and very good display, battery and camera. Still new to macOS",
         "['Apple', 'MacBook', 'AIR', 'Apple', 'M2', '-', '(8', 'GB/256', 'GB', 'SSD/Mac', 'OS', 'Monterey)...']",
         "Apple",
         "MacBook AIR Apple M2"
        ],
        [
         "4",
         "Apple MacBook AIR Apple M2 - (8 GB/256 GB SSD/Mac OS Monterey)...",
         "4.7",
         "15,210",
         "900",
         "5",
         "Awesome",
         "When i ordered and came to know about seller review,i was scared that in what condition i will get macbook. but i was wrong.\n\nThis is my first macbook and i am fully satisfied with the product with original packaging of apple and got genuine product.\n\nIt's very thin and light and looks very premium.\n\nAs A software developer, i installed intellij idea ide and guess what.\nIt's magic,it is opening just in a click and within 5 seconds.\nGreat performance, no heating issue, sound quality awesome an...\nREAD MORE",
         "['Apple', 'MacBook', 'AIR', 'Apple', 'M2', '-', '(8', 'GB/256', 'GB', 'SSD/Mac', 'OS', 'Monterey)...']",
         "Apple",
         "MacBook AIR Apple M2"
        ],
        [
         "5",
         "Apple MacBook AIR Apple M2 - (8 GB/256 GB SSD/Mac OS Monterey)...",
         "4.7",
         "15,210",
         "900",
         "5",
         "Super!",
         "Super product",
         "['Apple', 'MacBook', 'AIR', 'Apple', 'M2', '-', '(8', 'GB/256', 'GB', 'SSD/Mac', 'OS', 'Monterey)...']",
         "Apple",
         "MacBook AIR Apple M2"
        ],
        [
         "6",
         "Apple MacBook AIR Apple M2 - (8 GB/256 GB SSD/Mac OS Monterey)...",
         "4.7",
         "15,210",
         "900",
         "5",
         "Super!",
         "Go for it..its awesome",
         "['Apple', 'MacBook', 'AIR', 'Apple', 'M2', '-', '(8', 'GB/256', 'GB', 'SSD/Mac', 'OS', 'Monterey)...']",
         "Apple",
         "MacBook AIR Apple M2"
        ],
        [
         "7",
         "Apple MacBook AIR Apple M2 - (8 GB/256 GB SSD/Mac OS Monterey)...",
         "4.7",
         "15,210",
         "900",
         "5",
         "Mind-blowing purchase",
         "Best , best and best 🫶🏻👑🍎",
         "['Apple', 'MacBook', 'AIR', 'Apple', 'M2', '-', '(8', 'GB/256', 'GB', 'SSD/Mac', 'OS', 'Monterey)...']",
         "Apple",
         "MacBook AIR Apple M2"
        ],
        [
         "8",
         "Apple MacBook AIR Apple M2 - (8 GB/256 GB SSD/Mac OS Monterey)...",
         "4.7",
         "15,210",
         "900",
         "5",
         "Just wow!",
         "Its really very good and compact device.",
         "['Apple', 'MacBook', 'AIR', 'Apple', 'M2', '-', '(8', 'GB/256', 'GB', 'SSD/Mac', 'OS', 'Monterey)...']",
         "Apple",
         "MacBook AIR Apple M2"
        ],
        [
         "9",
         "Apple MacBook AIR Apple M2 - (8 GB/256 GB SSD/Mac OS Monterey)...",
         "4.7",
         "15,210",
         "900",
         "5",
         "Brilliant",
         "Superb built quality, Amazing performance and display quality...\n\nGot it at 72k, wonderful product at great price.",
         "['Apple', 'MacBook', 'AIR', 'Apple', 'M2', '-', '(8', 'GB/256', 'GB', 'SSD/Mac', 'OS', 'Monterey)...']",
         "Apple",
         "MacBook AIR Apple M2"
        ],
        [
         "10",
         "Apple MacBook AIR Apple M2 - (8 GB/256 GB SSD/Mac OS Monterey)...",
         "4.7",
         "15,210",
         "900",
         "5",
         "Mind-blowing purchase",
         "Great laptop. Very good performance, battery life and look and feel. Very happy with my purchase",
         "['Apple', 'MacBook', 'AIR', 'Apple', 'M2', '-', '(8', 'GB/256', 'GB', 'SSD/Mac', 'OS', 'Monterey)...']",
         "Apple",
         "MacBook AIR Apple M2"
        ],
        [
         "11",
         "Apple MacBook AIR Apple M2 - (8 GB/256 GB SSD/Mac OS Monterey)...",
         "4.7",
         "15,210",
         "900",
         "5",
         "Terrific",
         "Superb 😍",
         "['Apple', 'MacBook', 'AIR', 'Apple', 'M2', '-', '(8', 'GB/256', 'GB', 'SSD/Mac', 'OS', 'Monterey)...']",
         "Apple",
         "MacBook AIR Apple M2"
        ],
        [
         "12",
         "Apple MacBook AIR Apple M2 - (8 GB/256 GB SSD/Mac OS Monterey)...",
         "4.7",
         "15,210",
         "900",
         "5",
         "Mind-blowing purchase",
         "Best powerful machine in all aspects",
         "['Apple', 'MacBook', 'AIR', 'Apple', 'M2', '-', '(8', 'GB/256', 'GB', 'SSD/Mac', 'OS', 'Monterey)...']",
         "Apple",
         "MacBook AIR Apple M2"
        ],
        [
         "13",
         "Apple MacBook AIR Apple M2 - (8 GB/256 GB SSD/Mac OS Monterey)...",
         "4.7",
         "15,210",
         "900",
         "5",
         "Mind-blowing purchase",
         "just love how apple is in their own league!!",
         "['Apple', 'MacBook', 'AIR', 'Apple', 'M2', '-', '(8', 'GB/256', 'GB', 'SSD/Mac', 'OS', 'Monterey)...']",
         "Apple",
         "MacBook AIR Apple M2"
        ],
        [
         "14",
         "Apple MacBook AIR Apple M2 - (8 GB/256 GB SSD/Mac OS Monterey)...",
         "4.7",
         "15,210",
         "900",
         "5",
         "Highly recommended",
         "This is the first MacBook I ever have. And I must say no one can match Apple product.",
         "['Apple', 'MacBook', 'AIR', 'Apple', 'M2', '-', '(8', 'GB/256', 'GB', 'SSD/Mac', 'OS', 'Monterey)...']",
         "Apple",
         "MacBook AIR Apple M2"
        ],
        [
         "15",
         "Apple MacBook AIR Apple M2 - (8 GB/256 GB SSD/Mac OS Monterey)...",
         "4.7",
         "15,210",
         "900",
         "5",
         "Brilliant",
         "Product is nice but price droped by 6k after purchasing so feels a bit dispointed.",
         "['Apple', 'MacBook', 'AIR', 'Apple', 'M2', '-', '(8', 'GB/256', 'GB', 'SSD/Mac', 'OS', 'Monterey)...']",
         "Apple",
         "MacBook AIR Apple M2"
        ],
        [
         "16",
         "Apple MacBook AIR Apple M2 - (8 GB/256 GB SSD/Mac OS Monterey)...",
         "4.7",
         "15,210",
         "900",
         "5",
         "Worth every penny",
         "Worth every penny u spend",
         "['Apple', 'MacBook', 'AIR', 'Apple', 'M2', '-', '(8', 'GB/256', 'GB', 'SSD/Mac', 'OS', 'Monterey)...']",
         "Apple",
         "MacBook AIR Apple M2"
        ],
        [
         "17",
         "Apple MacBook AIR Apple M2 - (8 GB/256 GB SSD/Mac OS Monterey)...",
         "4.7",
         "15,210",
         "900",
         "5",
         "Brilliant",
         "Its very good product.",
         "['Apple', 'MacBook', 'AIR', 'Apple', 'M2', '-', '(8', 'GB/256', 'GB', 'SSD/Mac', 'OS', 'Monterey)...']",
         "Apple",
         "MacBook AIR Apple M2"
        ],
        [
         "18",
         "Apple MacBook AIR Apple M2 - (8 GB/256 GB SSD/Mac OS Monterey)...",
         "4.7",
         "15,210",
         "900",
         "5",
         "Terrific purchase",
         "My first MacBook and also my first laptop. First I thought of buying a windows laptop as macbooks are way more expensive. But during the sale I bought it at 73k which is a steal deal. I am a college student and mainly bought it for coding, streaming videos and movies and also for some editing tasks.\n\nI would like to tell you if you are not a gamer this is one of the best laptops you can have in this price range. Loved the design, the colour, the sound , the display, the battery backup and al...\nREAD MORE",
         "['Apple', 'MacBook', 'AIR', 'Apple', 'M2', '-', '(8', 'GB/256', 'GB', 'SSD/Mac', 'OS', 'Monterey)...']",
         "Apple",
         "MacBook AIR Apple M2"
        ],
        [
         "19",
         "Apple MacBook AIR Apple M2 - (8 GB/256 GB SSD/Mac OS Monterey)...",
         "4.7",
         "15,210",
         "900",
         "5",
         "Must buy!",
         "A good power pack laptop to go with,",
         "['Apple', 'MacBook', 'AIR', 'Apple', 'M2', '-', '(8', 'GB/256', 'GB', 'SSD/Mac', 'OS', 'Monterey)...']",
         "Apple",
         "MacBook AIR Apple M2"
        ],
        [
         "20",
         "Apple MacBook AIR Apple M2 - (8 GB/256 GB SSD/Mac OS Monterey)...",
         "4.7",
         "15,210",
         "900",
         "5",
         "Wonderful",
         "This is my first macbook...was using windows since 3rd grade ...both are different but macOS feels so smooth and optimised.\n\nAs soon as I setted it up ... I got one update... offcourse I updated my Mac.\n\nI am loving this product... Especially the screen corners are so thin with least bezels..\nBattery life is amazing...used moderately for 1 day.. discharged 50 %",
         "['Apple', 'MacBook', 'AIR', 'Apple', 'M2', '-', '(8', 'GB/256', 'GB', 'SSD/Mac', 'OS', 'Monterey)...']",
         "Apple",
         "MacBook AIR Apple M2"
        ],
        [
         "21",
         "Apple MacBook AIR Apple M2 - (8 GB/256 GB SSD/Mac OS Monterey)...",
         "4.7",
         "15,210",
         "900",
         "5",
         "Excellent",
         "First mac and it works like a beast",
         "['Apple', 'MacBook', 'AIR', 'Apple', 'M2', '-', '(8', 'GB/256', 'GB', 'SSD/Mac', 'OS', 'Monterey)...']",
         "Apple",
         "MacBook AIR Apple M2"
        ],
        [
         "22",
         "Apple MacBook AIR Apple M2 - (8 GB/256 GB SSD/Mac OS Monterey)...",
         "4.7",
         "15,210",
         "900",
         "5",
         "Super!",
         "This is the best in my entire life . Such a human Machine it is and 😀🎉",
         "['Apple', 'MacBook', 'AIR', 'Apple', 'M2', '-', '(8', 'GB/256', 'GB', 'SSD/Mac', 'OS', 'Monterey)...']",
         "Apple",
         "MacBook AIR Apple M2"
        ],
        [
         "23",
         "Apple MacBook AIR Apple M2 - (8 GB/256 GB SSD/Mac OS Monterey)...",
         "4.7",
         "15,210",
         "900",
         "5",
         "Simply awesome",
         "Perfect one for office workers",
         "['Apple', 'MacBook', 'AIR', 'Apple', 'M2', '-', '(8', 'GB/256', 'GB', 'SSD/Mac', 'OS', 'Monterey)...']",
         "Apple",
         "MacBook AIR Apple M2"
        ],
        [
         "24",
         "Apple MacBook AIR Apple M2 - (8 GB/256 GB SSD/Mac OS Monterey)...",
         "4.7",
         "15,210",
         "900",
         "5",
         "Classy product",
         "This is a great device as a personal laptop or work machine. The Full HD camera is a welcome addition. 6 month M365 subscription is free with this machine and that is a good add-on benefit. The small notch around the camera in the top middle of the screen is pretty neatly integrated and does not disturb. The build quality is fantastic and form factor is perfect to hold and operate.",
         "['Apple', 'MacBook', 'AIR', 'Apple', 'M2', '-', '(8', 'GB/256', 'GB', 'SSD/Mac', 'OS', 'Monterey)...']",
         "Apple",
         "MacBook AIR Apple M2"
        ],
        [
         "25",
         "Apple MacBook AIR Apple M2 - (8 GB/256 GB SSD/Mac OS Monterey)...",
         "4.7",
         "15,210",
         "900",
         "5",
         "Highly recommended",
         "Just got the product, While detailed review will updated after couple of months usage.\nFrom initial usage it's the best laptop i have used in my career",
         "['Apple', 'MacBook', 'AIR', 'Apple', 'M2', '-', '(8', 'GB/256', 'GB', 'SSD/Mac', 'OS', 'Monterey)...']",
         "Apple",
         "MacBook AIR Apple M2"
        ],
        [
         "26",
         "Apple MacBook AIR Apple M2 - (8 GB/256 GB SSD/Mac OS Monterey)...",
         "4.7",
         "15,210",
         "900",
         "5",
         "Wonderful",
         "Very nice",
         "['Apple', 'MacBook', 'AIR', 'Apple', 'M2', '-', '(8', 'GB/256', 'GB', 'SSD/Mac', 'OS', 'Monterey)...']",
         "Apple",
         "MacBook AIR Apple M2"
        ],
        [
         "27",
         "Apple MacBook AIR Apple M2 - (8 GB/256 GB SSD/Mac OS Monterey)...",
         "4.7",
         "15,210",
         "900",
         "4",
         "Delightful",
         "Good for business work",
         "['Apple', 'MacBook', 'AIR', 'Apple', 'M2', '-', '(8', 'GB/256', 'GB', 'SSD/Mac', 'OS', 'Monterey)...']",
         "Apple",
         "MacBook AIR Apple M2"
        ],
        [
         "28",
         "Apple MacBook AIR Apple M2 - (8 GB/256 GB SSD/Mac OS Monterey)...",
         "4.7",
         "15,210",
         "900",
         "4",
         "Wonderful",
         "Good",
         "['Apple', 'MacBook', 'AIR', 'Apple', 'M2', '-', '(8', 'GB/256', 'GB', 'SSD/Mac', 'OS', 'Monterey)...']",
         "Apple",
         "MacBook AIR Apple M2"
        ],
        [
         "29",
         "Apple MacBook AIR Apple M2 - (8 GB/256 GB SSD/Mac OS Monterey)...",
         "4.7",
         "15,210",
         "900",
         "5",
         "Using Mac after being a Windows user for almost 13 years.",
         "I have been using Windows for the past 13-odd years. Although I am a huge Apple fan and hence decided to buy this machine. I am writing this review after 1 month of usage.\n\nThe performance it delivers is just unmatched. On practical usage, it can easily beat the high-end Windows laptops. You are gonna love it from the moment you unbox it and would kinda wanna eat it once it falls in your hands.\n\nThe Apple silicon laptops really over-deliver than their on-paper specs. If it fits your budget...\nREAD MORE",
         "['Apple', 'MacBook', 'AIR', 'Apple', 'M2', '-', '(8', 'GB/256', 'GB', 'SSD/Mac', 'OS', 'Monterey)...']",
         "Apple",
         "MacBook AIR Apple M2"
        ],
        [
         "30",
         "Apple MacBook AIR Apple M2 - (8 GB/256 GB SSD/Mac OS Monterey)...",
         "4.7",
         "15,210",
         "900",
         "5",
         "Great product",
         "Superb",
         "['Apple', 'MacBook', 'AIR', 'Apple', 'M2', '-', '(8', 'GB/256', 'GB', 'SSD/Mac', 'OS', 'Monterey)...']",
         "Apple",
         "MacBook AIR Apple M2"
        ],
        [
         "31",
         "Apple MacBook AIR Apple M2 - (8 GB/256 GB SSD/Mac OS Monterey)...",
         "4.7",
         "15,210",
         "900",
         "5",
         "Simply awesome",
         "Very nice product",
         "['Apple', 'MacBook', 'AIR', 'Apple', 'M2', '-', '(8', 'GB/256', 'GB', 'SSD/Mac', 'OS', 'Monterey)...']",
         "Apple",
         "MacBook AIR Apple M2"
        ],
        [
         "32",
         "Apple MacBook AIR Apple M2 - (8 GB/256 GB SSD/Mac OS Monterey)...",
         "4.7",
         "15,210",
         "900",
         "5",
         "Perfect product!",
         "This is my first MacBook Air with M2 chip.\nSpace grey color.\nOverall performance is very good.\nBattery is Good.\nDisplay is superb.\nFinally I owned my Mac.\n\nBut I need laptop bag.",
         "['Apple', 'MacBook', 'AIR', 'Apple', 'M2', '-', '(8', 'GB/256', 'GB', 'SSD/Mac', 'OS', 'Monterey)...']",
         "Apple",
         "MacBook AIR Apple M2"
        ],
        [
         "33",
         "Apple MacBook AIR Apple M2 - (8 GB/256 GB SSD/Mac OS Monterey)...",
         "4.7",
         "15,210",
         "900",
         "5",
         "Classy product",
         "First time i have used macbook after windows and i would say i can't use windows again.beautiful display with amazing sound (specially dolby atmos feature) Performance of laptop is far better than windows top notch model laptops.\n\nFlipkart delivery was worst part in this purchase.I have got this laptop 10 days after placing order and after making so much efforts.But overall i am satisfied with my purchase.",
         "['Apple', 'MacBook', 'AIR', 'Apple', 'M2', '-', '(8', 'GB/256', 'GB', 'SSD/Mac', 'OS', 'Monterey)...']",
         "Apple",
         "MacBook AIR Apple M2"
        ],
        [
         "34",
         "Apple MacBook AIR Apple M2 - (8 GB/256 GB SSD/Mac OS Monterey)...",
         "4.7",
         "15,210",
         "900",
         "5",
         "Terrific",
         "The MacBook Air M2 is Apple's latest addition to its renowned lineup of ultraportable laptops, and it certainly has a lot to offer. With its sleek design, remarkable M2 chip, and impressive battery life, it's a compelling choice for many users. However, it's not without its downsides.\n\n**Pros:**\n\n1. **Stunning Design:** The MacBook Air M2 maintains the iconic, slim, and lightweight design that Apple is known for. It's an absolute head-turner with its aluminum chassis.\n\n2. **M2 Chip Performanc...\nREAD MORE",
         "['Apple', 'MacBook', 'AIR', 'Apple', 'M2', '-', '(8', 'GB/256', 'GB', 'SSD/Mac', 'OS', 'Monterey)...']",
         "Apple",
         "MacBook AIR Apple M2"
        ],
        [
         "35",
         "Apple MacBook AIR Apple M2 - (8 GB/256 GB SSD/Mac OS Monterey)...",
         "4.7",
         "15,210",
         "900",
         "5",
         "Highly recommended",
         "Just go for it. Performance and beauty is really amazing. 😻",
         "['Apple', 'MacBook', 'AIR', 'Apple', 'M2', '-', '(8', 'GB/256', 'GB', 'SSD/Mac', 'OS', 'Monterey)...']",
         "Apple",
         "MacBook AIR Apple M2"
        ],
        [
         "36",
         "Apple MacBook AIR Apple M2 - (8 GB/256 GB SSD/Mac OS Monterey)...",
         "4.7",
         "15,210",
         "900",
         "5",
         "Super!",
         "Design and build quality is excellent🤩... Performance is good enough for most users🙃... Handles day to day tasks with ease😉... Battery life is mind benging😅... Overall bang for the buck😎",
         "['Apple', 'MacBook', 'AIR', 'Apple', 'M2', '-', '(8', 'GB/256', 'GB', 'SSD/Mac', 'OS', 'Monterey)...']",
         "Apple",
         "MacBook AIR Apple M2"
        ],
        [
         "37",
         "Apple MacBook AIR Apple M2 - (8 GB/256 GB SSD/Mac OS Monterey)...",
         "4.7",
         "15,210",
         "900",
         "4",
         "Very Good",
         "Nice Experience with mac",
         "['Apple', 'MacBook', 'AIR', 'Apple', 'M2', '-', '(8', 'GB/256', 'GB', 'SSD/Mac', 'OS', 'Monterey)...']",
         "Apple",
         "MacBook AIR Apple M2"
        ],
        [
         "38",
         "Apple MacBook AIR Apple M2 - (8 GB/256 GB SSD/Mac OS Monterey)...",
         "4.7",
         "15,210",
         "900",
         "5",
         "Perfect product!",
         "Just as expected,Awesome!",
         "['Apple', 'MacBook', 'AIR', 'Apple', 'M2', '-', '(8', 'GB/256', 'GB', 'SSD/Mac', 'OS', 'Monterey)...']",
         "Apple",
         "MacBook AIR Apple M2"
        ],
        [
         "39",
         "Apple MacBook AIR Apple M2 - (8 GB/256 GB SSD/Mac OS Monterey)...",
         "4.7",
         "15,210",
         "900",
         "5",
         "Highly recommended",
         "I'm reviewing after 2 months, honestly I assure that I have used many laptops but this is the most experience ever. Literally M2's have crucial or beast performance no doubt. It's feel like butter on a hot pan, and I suggest if you purchase M2 you should be go for the starlight colour seriously colour is very unique.",
         "['Apple', 'MacBook', 'AIR', 'Apple', 'M2', '-', '(8', 'GB/256', 'GB', 'SSD/Mac', 'OS', 'Monterey)...']",
         "Apple",
         "MacBook AIR Apple M2"
        ],
        [
         "40",
         "Apple MacBook AIR Apple M2 - (8 GB/256 GB SSD/Mac OS Monterey)...",
         "4.7",
         "15,210",
         "900",
         "5",
         "Must buy!",
         "EXPENSIVE BUT AMAZING! 🤯",
         "['Apple', 'MacBook', 'AIR', 'Apple', 'M2', '-', '(8', 'GB/256', 'GB', 'SSD/Mac', 'OS', 'Monterey)...']",
         "Apple",
         "MacBook AIR Apple M2"
        ],
        [
         "41",
         "Apple MacBook AIR Apple M2 - (8 GB/256 GB SSD/Mac OS Monterey)...",
         "4.7",
         "15,210",
         "900",
         "5",
         "Must buy!",
         "Awesome ✨❤️",
         "['Apple', 'MacBook', 'AIR', 'Apple', 'M2', '-', '(8', 'GB/256', 'GB', 'SSD/Mac', 'OS', 'Monterey)...']",
         "Apple",
         "MacBook AIR Apple M2"
        ],
        [
         "42",
         "Apple MacBook AIR Apple M2 - (8 GB/256 GB SSD/Mac OS Monterey)...",
         "4.7",
         "15,210",
         "900",
         "4",
         "Wonderful",
         "Expected better. Has hinge problem",
         "['Apple', 'MacBook', 'AIR', 'Apple', 'M2', '-', '(8', 'GB/256', 'GB', 'SSD/Mac', 'OS', 'Monterey)...']",
         "Apple",
         "MacBook AIR Apple M2"
        ],
        [
         "43",
         "Apple MacBook AIR Apple M2 - (8 GB/256 GB SSD/Mac OS Monterey)...",
         "4.7",
         "15,210",
         "900",
         "5",
         "Fabulous!",
         "2 weeks review, product is very optimal in performance, price a bit high but overall product satisfaction is always there when ever u purchase an apple product, would take time to get used to its apps those who r used to working on windows like I am. Good buy 👍",
         "['Apple', 'MacBook', 'AIR', 'Apple', 'M2', '-', '(8', 'GB/256', 'GB', 'SSD/Mac', 'OS', 'Monterey)...']",
         "Apple",
         "MacBook AIR Apple M2"
        ],
        [
         "44",
         "Apple MacBook AIR Apple M2 - (8 GB/256 GB SSD/Mac OS Monterey)...",
         "4.7",
         "15,210",
         "900",
         "5",
         "Brilliant",
         "Amazing Display, battery and performance is super efficient, best product at a best price with the credit card discount.\n\nLastly the new Starlight colour just looks 😍 fantastic...",
         "['Apple', 'MacBook', 'AIR', 'Apple', 'M2', '-', '(8', 'GB/256', 'GB', 'SSD/Mac', 'OS', 'Monterey)...']",
         "Apple",
         "MacBook AIR Apple M2"
        ],
        [
         "45",
         "Apple MacBook AIR Apple M2 - (8 GB/256 GB SSD/Mac OS Monterey)...",
         "4.7",
         "15,210",
         "900",
         "4",
         "Nice product",
         "Well I am a software developer. The laptop heats up really quickly. And once it does the device starts to lag",
         "['Apple', 'MacBook', 'AIR', 'Apple', 'M2', '-', '(8', 'GB/256', 'GB', 'SSD/Mac', 'OS', 'Monterey)...']",
         "Apple",
         "MacBook AIR Apple M2"
        ],
        [
         "46",
         "Apple MacBook AIR Apple M2 - (8 GB/256 GB SSD/Mac OS Monterey)...",
         "4.7",
         "15,210",
         "900",
         "5",
         "Classy product",
         "Awesome battery backup, performance wise no complaints , slick design and loved the midnight colour.... Although it's a fingerprint magnet\n\nDelivery experience was very good",
         "['Apple', 'MacBook', 'AIR', 'Apple', 'M2', '-', '(8', 'GB/256', 'GB', 'SSD/Mac', 'OS', 'Monterey)...']",
         "Apple",
         "MacBook AIR Apple M2"
        ],
        [
         "47",
         "Apple MacBook AIR Apple M2 - (8 GB/256 GB SSD/Mac OS Monterey)...",
         "4.7",
         "15,210",
         "900",
         "5",
         "Best in the market!",
         "Best machine\nSuper slim\nSuperb battery backup\nSuperb performance\nSuperb display\nPremium design\nNice packaging\n100% genuine\nFar better than windows laptp",
         "['Apple', 'MacBook', 'AIR', 'Apple', 'M2', '-', '(8', 'GB/256', 'GB', 'SSD/Mac', 'OS', 'Monterey)...']",
         "Apple",
         "MacBook AIR Apple M2"
        ],
        [
         "48",
         "Apple MacBook AIR Apple M2 - (8 GB/256 GB SSD/Mac OS Monterey)...",
         "4.7",
         "15,210",
         "900",
         "5",
         "Highly recommended",
         "Blindly go for Macbook if your budget allows. No other laptop can provide this quality and premiumness",
         "['Apple', 'MacBook', 'AIR', 'Apple', 'M2', '-', '(8', 'GB/256', 'GB', 'SSD/Mac', 'OS', 'Monterey)...']",
         "Apple",
         "MacBook AIR Apple M2"
        ],
        [
         "49",
         "Apple MacBook AIR Apple M2 - (8 GB/256 GB SSD/Mac OS Monterey)...",
         "4.7",
         "15,210",
         "900",
         "5",
         "Excellent",
         "Prefect product and perfect price. I bought this mac for 78k in big billion days. I have been using this for 3 days now. It is working properly and had no starches. It's perfectly original and the packaging was also good. Really satisfied.",
         "['Apple', 'MacBook', 'AIR', 'Apple', 'M2', '-', '(8', 'GB/256', 'GB', 'SSD/Mac', 'OS', 'Monterey)...']",
         "Apple",
         "MacBook AIR Apple M2"
        ]
       ],
       "shape": {
        "columns": 10,
        "rows": 24113
       }
      },
      "text/html": [
       "<div>\n",
       "<style scoped>\n",
       "    .dataframe tbody tr th:only-of-type {\n",
       "        vertical-align: middle;\n",
       "    }\n",
       "\n",
       "    .dataframe tbody tr th {\n",
       "        vertical-align: top;\n",
       "    }\n",
       "\n",
       "    .dataframe thead th {\n",
       "        text-align: right;\n",
       "    }\n",
       "</style>\n",
       "<table border=\"1\" class=\"dataframe\">\n",
       "  <thead>\n",
       "    <tr style=\"text-align: right;\">\n",
       "      <th></th>\n",
       "      <th>product_name</th>\n",
       "      <th>Avg_rating_product</th>\n",
       "      <th>Total_no_rating_received</th>\n",
       "      <th>Total_no_review_written</th>\n",
       "      <th>Individual_rating_user</th>\n",
       "      <th>title</th>\n",
       "      <th>review</th>\n",
       "      <th>Product_split</th>\n",
       "      <th>Brand_name</th>\n",
       "      <th>Series_name</th>\n",
       "    </tr>\n",
       "  </thead>\n",
       "  <tbody>\n",
       "    <tr>\n",
       "      <th>0</th>\n",
       "      <td>Apple MacBook AIR Apple M2 - (8 GB/256 GB SSD/...</td>\n",
       "      <td>4.7</td>\n",
       "      <td>15,210</td>\n",
       "      <td>900</td>\n",
       "      <td>5</td>\n",
       "      <td>Perfect product!</td>\n",
       "      <td>Loved it, it's my first MacBook that I earned ...</td>\n",
       "      <td>[Apple, MacBook, AIR, Apple, M2, -, (8, GB/256...</td>\n",
       "      <td>Apple</td>\n",
       "      <td>MacBook AIR Apple M2</td>\n",
       "    </tr>\n",
       "    <tr>\n",
       "      <th>1</th>\n",
       "      <td>Apple MacBook AIR Apple M2 - (8 GB/256 GB SSD/...</td>\n",
       "      <td>4.7</td>\n",
       "      <td>15,210</td>\n",
       "      <td>900</td>\n",
       "      <td>5</td>\n",
       "      <td>Fabulous!</td>\n",
       "      <td>Battery lasted longer than my first relationsh...</td>\n",
       "      <td>[Apple, MacBook, AIR, Apple, M2, -, (8, GB/256...</td>\n",
       "      <td>Apple</td>\n",
       "      <td>MacBook AIR Apple M2</td>\n",
       "    </tr>\n",
       "    <tr>\n",
       "      <th>2</th>\n",
       "      <td>Apple MacBook AIR Apple M2 - (8 GB/256 GB SSD/...</td>\n",
       "      <td>4.7</td>\n",
       "      <td>15,210</td>\n",
       "      <td>900</td>\n",
       "      <td>5</td>\n",
       "      <td>Fabulous!</td>\n",
       "      <td>Such a great deal.. very happy with the perfor...</td>\n",
       "      <td>[Apple, MacBook, AIR, Apple, M2, -, (8, GB/256...</td>\n",
       "      <td>Apple</td>\n",
       "      <td>MacBook AIR Apple M2</td>\n",
       "    </tr>\n",
       "    <tr>\n",
       "      <th>3</th>\n",
       "      <td>Apple MacBook AIR Apple M2 - (8 GB/256 GB SSD/...</td>\n",
       "      <td>4.7</td>\n",
       "      <td>15,210</td>\n",
       "      <td>900</td>\n",
       "      <td>4</td>\n",
       "      <td>Delightful</td>\n",
       "      <td>Awesome build quality and very good display, b...</td>\n",
       "      <td>[Apple, MacBook, AIR, Apple, M2, -, (8, GB/256...</td>\n",
       "      <td>Apple</td>\n",
       "      <td>MacBook AIR Apple M2</td>\n",
       "    </tr>\n",
       "    <tr>\n",
       "      <th>4</th>\n",
       "      <td>Apple MacBook AIR Apple M2 - (8 GB/256 GB SSD/...</td>\n",
       "      <td>4.7</td>\n",
       "      <td>15,210</td>\n",
       "      <td>900</td>\n",
       "      <td>5</td>\n",
       "      <td>Awesome</td>\n",
       "      <td>When i ordered and came to know about seller r...</td>\n",
       "      <td>[Apple, MacBook, AIR, Apple, M2, -, (8, GB/256...</td>\n",
       "      <td>Apple</td>\n",
       "      <td>MacBook AIR Apple M2</td>\n",
       "    </tr>\n",
       "    <tr>\n",
       "      <th>...</th>\n",
       "      <td>...</td>\n",
       "      <td>...</td>\n",
       "      <td>...</td>\n",
       "      <td>...</td>\n",
       "      <td>...</td>\n",
       "      <td>...</td>\n",
       "      <td>...</td>\n",
       "      <td>...</td>\n",
       "      <td>...</td>\n",
       "      <td>...</td>\n",
       "    </tr>\n",
       "    <tr>\n",
       "      <th>24108</th>\n",
       "      <td>MSI Modern 14 Intel Core i5 13th Gen 1335U - (...</td>\n",
       "      <td>4.3</td>\n",
       "      <td>156</td>\n",
       "      <td>24</td>\n",
       "      <td>5</td>\n",
       "      <td>Perfect product!</td>\n",
       "      <td>MSI Laptop is high performance and the best. c...</td>\n",
       "      <td>[MSI, Modern, 14, Intel, Core, i5, 13th, Gen, ...</td>\n",
       "      <td>MSI</td>\n",
       "      <td>Modern 14 Intel Core</td>\n",
       "    </tr>\n",
       "    <tr>\n",
       "      <th>24109</th>\n",
       "      <td>MSI Modern 14 Intel Core i5 13th Gen 1335U - (...</td>\n",
       "      <td>4.3</td>\n",
       "      <td>156</td>\n",
       "      <td>24</td>\n",
       "      <td>5</td>\n",
       "      <td>Perfect product!</td>\n",
       "      <td>Excellent performance best laptop.</td>\n",
       "      <td>[MSI, Modern, 14, Intel, Core, i5, 13th, Gen, ...</td>\n",
       "      <td>MSI</td>\n",
       "      <td>Modern 14 Intel Core</td>\n",
       "    </tr>\n",
       "    <tr>\n",
       "      <th>24110</th>\n",
       "      <td>MSI Modern 14 Intel Core i5 13th Gen 1335U - (...</td>\n",
       "      <td>4.3</td>\n",
       "      <td>156</td>\n",
       "      <td>24</td>\n",
       "      <td>4</td>\n",
       "      <td>Good product, Lacks features.</td>\n",
       "      <td>Decent battery life. Exceptional build quality...</td>\n",
       "      <td>[MSI, Modern, 14, Intel, Core, i5, 13th, Gen, ...</td>\n",
       "      <td>MSI</td>\n",
       "      <td>Modern 14 Intel Core</td>\n",
       "    </tr>\n",
       "    <tr>\n",
       "      <th>24111</th>\n",
       "      <td>Lenovo IdeaPad 5 2-in-1 WUXGA IPS AMD Ryzen 7 ...</td>\n",
       "      <td>4.4</td>\n",
       "      <td>7</td>\n",
       "      <td>2</td>\n",
       "      <td>3</td>\n",
       "      <td>Nice</td>\n",
       "      <td>The product does not support facial recognitio...</td>\n",
       "      <td>[Lenovo, IdeaPad, 5, 2-in-1, WUXGA, IPS, AMD, ...</td>\n",
       "      <td>Lenovo</td>\n",
       "      <td>IdeaPad 5 2-in-1 WUXGA</td>\n",
       "    </tr>\n",
       "    <tr>\n",
       "      <th>24112</th>\n",
       "      <td>Lenovo IdeaPad 5 2-in-1 WUXGA IPS AMD Ryzen 7 ...</td>\n",
       "      <td>4.4</td>\n",
       "      <td>7</td>\n",
       "      <td>2</td>\n",
       "      <td>4</td>\n",
       "      <td>Very Good</td>\n",
       "      <td>DISPLAY IS A LET DOWN. But the lenovo Pen work...</td>\n",
       "      <td>[Lenovo, IdeaPad, 5, 2-in-1, WUXGA, IPS, AMD, ...</td>\n",
       "      <td>Lenovo</td>\n",
       "      <td>IdeaPad 5 2-in-1 WUXGA</td>\n",
       "    </tr>\n",
       "  </tbody>\n",
       "</table>\n",
       "<p>24113 rows × 10 columns</p>\n",
       "</div>"
      ],
      "text/plain": [
       "                                            product_name  Avg_rating_product  \\\n",
       "0      Apple MacBook AIR Apple M2 - (8 GB/256 GB SSD/...                 4.7   \n",
       "1      Apple MacBook AIR Apple M2 - (8 GB/256 GB SSD/...                 4.7   \n",
       "2      Apple MacBook AIR Apple M2 - (8 GB/256 GB SSD/...                 4.7   \n",
       "3      Apple MacBook AIR Apple M2 - (8 GB/256 GB SSD/...                 4.7   \n",
       "4      Apple MacBook AIR Apple M2 - (8 GB/256 GB SSD/...                 4.7   \n",
       "...                                                  ...                 ...   \n",
       "24108  MSI Modern 14 Intel Core i5 13th Gen 1335U - (...                 4.3   \n",
       "24109  MSI Modern 14 Intel Core i5 13th Gen 1335U - (...                 4.3   \n",
       "24110  MSI Modern 14 Intel Core i5 13th Gen 1335U - (...                 4.3   \n",
       "24111  Lenovo IdeaPad 5 2-in-1 WUXGA IPS AMD Ryzen 7 ...                 4.4   \n",
       "24112  Lenovo IdeaPad 5 2-in-1 WUXGA IPS AMD Ryzen 7 ...                 4.4   \n",
       "\n",
       "      Total_no_rating_received Total_no_review_written  \\\n",
       "0                       15,210                     900   \n",
       "1                       15,210                     900   \n",
       "2                       15,210                     900   \n",
       "3                       15,210                     900   \n",
       "4                       15,210                     900   \n",
       "...                        ...                     ...   \n",
       "24108                      156                      24   \n",
       "24109                      156                      24   \n",
       "24110                      156                      24   \n",
       "24111                        7                       2   \n",
       "24112                        7                       2   \n",
       "\n",
       "       Individual_rating_user                          title  \\\n",
       "0                           5               Perfect product!   \n",
       "1                           5                      Fabulous!   \n",
       "2                           5                      Fabulous!   \n",
       "3                           4                     Delightful   \n",
       "4                           5                        Awesome   \n",
       "...                       ...                            ...   \n",
       "24108                       5               Perfect product!   \n",
       "24109                       5               Perfect product!   \n",
       "24110                       4  Good product, Lacks features.   \n",
       "24111                       3                           Nice   \n",
       "24112                       4                      Very Good   \n",
       "\n",
       "                                                  review  \\\n",
       "0      Loved it, it's my first MacBook that I earned ...   \n",
       "1      Battery lasted longer than my first relationsh...   \n",
       "2      Such a great deal.. very happy with the perfor...   \n",
       "3      Awesome build quality and very good display, b...   \n",
       "4      When i ordered and came to know about seller r...   \n",
       "...                                                  ...   \n",
       "24108  MSI Laptop is high performance and the best. c...   \n",
       "24109                 Excellent performance best laptop.   \n",
       "24110  Decent battery life. Exceptional build quality...   \n",
       "24111  The product does not support facial recognitio...   \n",
       "24112  DISPLAY IS A LET DOWN. But the lenovo Pen work...   \n",
       "\n",
       "                                           Product_split Brand_name  \\\n",
       "0      [Apple, MacBook, AIR, Apple, M2, -, (8, GB/256...      Apple   \n",
       "1      [Apple, MacBook, AIR, Apple, M2, -, (8, GB/256...      Apple   \n",
       "2      [Apple, MacBook, AIR, Apple, M2, -, (8, GB/256...      Apple   \n",
       "3      [Apple, MacBook, AIR, Apple, M2, -, (8, GB/256...      Apple   \n",
       "4      [Apple, MacBook, AIR, Apple, M2, -, (8, GB/256...      Apple   \n",
       "...                                                  ...        ...   \n",
       "24108  [MSI, Modern, 14, Intel, Core, i5, 13th, Gen, ...        MSI   \n",
       "24109  [MSI, Modern, 14, Intel, Core, i5, 13th, Gen, ...        MSI   \n",
       "24110  [MSI, Modern, 14, Intel, Core, i5, 13th, Gen, ...        MSI   \n",
       "24111  [Lenovo, IdeaPad, 5, 2-in-1, WUXGA, IPS, AMD, ...     Lenovo   \n",
       "24112  [Lenovo, IdeaPad, 5, 2-in-1, WUXGA, IPS, AMD, ...     Lenovo   \n",
       "\n",
       "                  Series_name  \n",
       "0        MacBook AIR Apple M2  \n",
       "1        MacBook AIR Apple M2  \n",
       "2        MacBook AIR Apple M2  \n",
       "3        MacBook AIR Apple M2  \n",
       "4        MacBook AIR Apple M2  \n",
       "...                       ...  \n",
       "24108    Modern 14 Intel Core  \n",
       "24109    Modern 14 Intel Core  \n",
       "24110    Modern 14 Intel Core  \n",
       "24111  IdeaPad 5 2-in-1 WUXGA  \n",
       "24112  IdeaPad 5 2-in-1 WUXGA  \n",
       "\n",
       "[24113 rows x 10 columns]"
      ]
     },
     "execution_count": 504,
     "metadata": {},
     "output_type": "execute_result"
    }
   ],
   "source": [
    "df['Product_split'] = df['product_name'].apply(lambda x: x.split())\n",
    "\n",
    "df['Brand_name'] = df['Product_split'].apply(lambda x: x[0])\n",
    "\n",
    "df['Series_name'] = df['Product_split'].apply(lambda x: ' '.join(x[1:5]))\n",
    "\n",
    "df"
   ]
  },
  {
   "cell_type": "code",
   "execution_count": 505,
   "metadata": {},
   "outputs": [
    {
     "data": {
      "text/plain": [
       "Text(0.5, 1.0, 'Most Popular laptop brand based on Review')"
      ]
     },
     "execution_count": 505,
     "metadata": {},
     "output_type": "execute_result"
    },
    {
     "data": {
      "image/png": "[encoded data removed]",
      "text/plain": [
       "<Figure size 2000x800 with 1 Axes>"
      ]
     },
     "metadata": {},
     "output_type": "display_data"
    }
   ],
   "source": [
    "plt.figure(figsize=(20,8))\n",
    "sns.countplot(x='Brand_name', data=df, order=df['Brand_name'].value_counts().index, palette='Set2')\n",
    "plt.title('Most Popular laptop brand based on Review')"
   ]
  },
  {
   "cell_type": "code",
   "execution_count": 506,
   "metadata": {},
   "outputs": [
    {
     "data": {
      "image/png": "[encoded data removed]",
      "text/plain": [
       "<Figure size 2000x800 with 1 Axes>"
      ]
     },
     "metadata": {},
     "output_type": "display_data"
    }
   ],
   "source": [
    "plt.figure(figsize=(20,8))\n",
    "\n",
    "sns.histplot(df['Avg_rating_product'], bins=50, kde = True,color = 'Blue')\n",
    "plt.title('Average rating froem the users')\n",
    "plt.xlabel('Rating')\n",
    "plt.ylabel('Frequency'\"Combined Data.csv\")\n",
    "plt.show()"
   ]
  },
  {
   "cell_type": "code",
   "execution_count": null,
   "metadata": {},
   "outputs": [
    {
     "data": {
      "text/plain": [
       "<Axes: ylabel='Brand_name'>"
      ]
     },
     "execution_count": 507,
     "metadata": {},
     "output_type": "execute_result"
    },
    {
     "data": {
      "image/png": "[encoded data removed]",
      "text/plain": [
       "<Figure size 1000x800 with 1 Axes>"
      ]
     },
     "metadata": {},
     "output_type": "display_data"
    }
   ],
   "source": [
    "plt.figure(figsize=(10,8))\n",
    "top_laptop = df.groupby('Brand_name')['Avg_rating_product'].max().sort_values(ascending=False)\n",
    "\n",
    "sns.barplot(x = top_laptop.values, y = top_laptop.index, palette = 'magma')"
   ]
  },
  {
   "cell_type": "markdown",
   "metadata": {},
   "source": [
    "#### Extract processor name"
   ]
  },
  {
   "cell_type": "code",
   "execution_count": 524,
   "metadata": {},
   "outputs": [],
   "source": [
    "processor_name = ['Intel','AMD','M2','M3','Qualcomm','MediaTek Kompanio 520','MediaTek MT8183','MediaTek MT8788','MediaTek Kompanio 1200']\n",
    "\n",
    "df['Processor'] = df['product_name'].apply(lambda x: next((p for p in processor_name if p in x), 'Unknown'))\n"
   ]
  },
  {
   "cell_type": "markdown",
   "metadata": {},
   "source": [
    "#### Frequency of count of each processors"
   ]
  },
  {
   "cell_type": "code",
   "execution_count": 531,
   "metadata": {},
   "outputs": [
    {
     "data": {
      "text/plain": [
       "<Axes: xlabel='Processor', ylabel='count'>"
      ]
     },
     "execution_count": 531,
     "metadata": {},
     "output_type": "execute_result"
    },
    {
     "data": {
      "image/png": "[encoded data removed]",
      "text/plain": [
       "<Figure size 2000x800 with 1 Axes>"
      ]
     },
     "metadata": {},
     "output_type": "display_data"
    }
   ],
   "source": [
    "plt.figure(figsize=(20,8))\n",
    "\n",
    "sns.countplot(x = 'Processor', order = df['Processor'].value_counts().index, data = df, palette='Set2')"
   ]
  },
  {
   "cell_type": "markdown",
   "metadata": {},
   "source": [
    "####  Processor wise average rating from users"
   ]
  },
  {
   "cell_type": "code",
   "execution_count": 540,
   "metadata": {},
   "outputs": [
    {
     "data": {
      "text/plain": [
       "<Axes: ylabel='Processor'>"
      ]
     },
     "execution_count": 540,
     "metadata": {},
     "output_type": "execute_result"
    },
    {
     "data": {
      "image/png": "[encoded data removed]",
      "text/plain": [
       "<Figure size 1000x800 with 1 Axes>"
      ]
     },
     "metadata": {},
     "output_type": "display_data"
    }
   ],
   "source": [
    "plt.figure(figsize=(10,8))\n",
    "top_laptop = df.groupby('Processor')['Avg_rating_product'].max().sort_values(ascending=False)\n",
    "\n",
    "sns.barplot(x = top_laptop.values, y = top_laptop.index, palette = 'magma')"
   ]
  },
  {
   "cell_type": "code",
   "execution_count": 545,
   "metadata": {},
   "outputs": [
    {
     "data": {
      "text/plain": [
       "Index(['product_name', 'Avg_rating_product', 'Total_no_rating_received',\n",
       "       'Total_no_review_written', 'Individual_rating_user', 'title', 'review',\n",
       "       'Product_split', 'Brand_name', 'Series_name', 'Processor'],\n",
       "      dtype='object')"
      ]
     },
     "execution_count": 545,
     "metadata": {},
     "output_type": "execute_result"
    }
   ],
   "source": [
    "df.columns"
   ]
  },
  {
   "cell_type": "markdown",
   "metadata": {},
   "source": [
    "####  Processor wise individual rating from users"
   ]
  },
  {
   "cell_type": "code",
   "execution_count": 548,
   "metadata": {},
   "outputs": [
    {
     "data": {
      "text/plain": [
       "<Axes: ylabel='Processor'>"
      ]
     },
     "execution_count": 548,
     "metadata": {},
     "output_type": "execute_result"
    },
    {
     "data": {
      "image/png": "[encoded data removed]",
      "text/plain": [
       "<Figure size 1000x800 with 1 Axes>"
      ]
     },
     "metadata": {},
     "output_type": "display_data"
    }
   ],
   "source": [
    "plt.figure(figsize=(10,8))\n",
    "top_laptop = df.groupby('Processor')['Individual_rating_user'].mean().sort_values(ascending=False)\n",
    "\n",
    "sns.barplot(x = top_laptop.values, y = top_laptop.index, palette = 'magma')"
   ]
  },
  {
   "cell_type": "code",
   "execution_count": 544,
   "metadata": {},
   "outputs": [
    {
     "data": {
      "application/vnd.microsoft.datawrangler.viewer.v0+json": {
       "columns": [
        {
         "name": "('Brand_name', 'Processor')",
         "rawType": "object",
         "type": "unknown"
        },
        {
         "name": "count",
         "rawType": "int64",
         "type": "integer"
        }
       ],
       "conversionMethod": "pd.DataFrame",
       "ref": "81d3954b-f688-42f8-9f60-f4a398e6eb81",
       "rows": [
        [
         "('ASUS', 'Intel')",
         "3317"
        ],
        [
         "('ASUS', 'AMD')",
         "1556"
        ],
        [
         "('ASUS', 'Qualcomm')",
         "2"
        ],
        [
         "('AXL', 'Intel')",
         "33"
        ],
        [
         "('Acer', 'Intel')",
         "2500"
        ],
        [
         "('Acer', 'AMD')",
         "942"
        ],
        [
         "('Apple', 'M2')",
         "500"
        ],
        [
         "('Apple', 'M3')",
         "96"
        ],
        [
         "('Avita', 'Intel')",
         "3"
        ],
        [
         "('CHUWI', 'Intel')",
         "638"
        ],
        [
         "('Colorful', 'Intel')",
         "135"
        ],
        [
         "('DELL', 'Intel')",
         "939"
        ],
        [
         "('DELL', 'AMD')",
         "110"
        ],
        [
         "('GIGABYTE', 'Intel')",
         "4"
        ],
        [
         "('HP', 'Intel')",
         "3819"
        ],
        [
         "('HP', 'AMD')",
         "2219"
        ],
        [
         "('HP', 'MediaTek MT8183')",
         "200"
        ],
        [
         "('HP', 'MediaTek Kompanio 1200')",
         "6"
        ],
        [
         "('Infinix', 'Intel')",
         "780"
        ],
        [
         "('Lenovo', 'Intel')",
         "1845"
        ],
        [
         "('Lenovo', 'AMD')",
         "991"
        ],
        [
         "('Lenovo', 'MediaTek Kompanio 520')",
         "210"
        ],
        [
         "('Lenovo', 'Qualcomm')",
         "5"
        ],
        [
         "('MSI', 'Intel')",
         "1330"
        ],
        [
         "('MSI', 'AMD')",
         "462"
        ],
        [
         "('Primebook', 'MediaTek MT8183')",
         "100"
        ],
        [
         "('Primebook', 'MediaTek MT8788')",
         "100"
        ],
        [
         "('SAMSUNG', 'Intel')",
         "551"
        ],
        [
         "('Thomson', 'Intel')",
         "2"
        ],
        [
         "('Ultimus', 'Intel')",
         "218"
        ],
        [
         "('ZEBRONICS', 'Intel')",
         "300"
        ],
        [
         "('realme', 'Intel')",
         "100"
        ],
        [
         "('walker', 'Intel')",
         "100"
        ]
       ],
       "shape": {
        "columns": 1,
        "rows": 33
       }
      },
      "text/html": [
       "<div>\n",
       "<style scoped>\n",
       "    .dataframe tbody tr th:only-of-type {\n",
       "        vertical-align: middle;\n",
       "    }\n",
       "\n",
       "    .dataframe tbody tr th {\n",
       "        vertical-align: top;\n",
       "    }\n",
       "\n",
       "    .dataframe thead th {\n",
       "        text-align: right;\n",
       "    }\n",
       "</style>\n",
       "<table border=\"1\" class=\"dataframe\">\n",
       "  <thead>\n",
       "    <tr style=\"text-align: right;\">\n",
       "      <th></th>\n",
       "      <th></th>\n",
       "      <th>count</th>\n",
       "    </tr>\n",
       "    <tr>\n",
       "      <th>Brand_name</th>\n",
       "      <th>Processor</th>\n",
       "      <th></th>\n",
       "    </tr>\n",
       "  </thead>\n",
       "  <tbody>\n",
       "    <tr>\n",
       "      <th rowspan=\"3\" valign=\"top\">ASUS</th>\n",
       "      <th>Intel</th>\n",
       "      <td>3317</td>\n",
       "    </tr>\n",
       "    <tr>\n",
       "      <th>AMD</th>\n",
       "      <td>1556</td>\n",
       "    </tr>\n",
       "    <tr>\n",
       "      <th>Qualcomm</th>\n",
       "      <td>2</td>\n",
       "    </tr>\n",
       "    <tr>\n",
       "      <th>AXL</th>\n",
       "      <th>Intel</th>\n",
       "      <td>33</td>\n",
       "    </tr>\n",
       "    <tr>\n",
       "      <th rowspan=\"2\" valign=\"top\">Acer</th>\n",
       "      <th>Intel</th>\n",
       "      <td>2500</td>\n",
       "    </tr>\n",
       "    <tr>\n",
       "      <th>AMD</th>\n",
       "      <td>942</td>\n",
       "    </tr>\n",
       "    <tr>\n",
       "      <th rowspan=\"2\" valign=\"top\">Apple</th>\n",
       "      <th>M2</th>\n",
       "      <td>500</td>\n",
       "    </tr>\n",
       "    <tr>\n",
       "      <th>M3</th>\n",
       "      <td>96</td>\n",
       "    </tr>\n",
       "    <tr>\n",
       "      <th>Avita</th>\n",
       "      <th>Intel</th>\n",
       "      <td>3</td>\n",
       "    </tr>\n",
       "    <tr>\n",
       "      <th>CHUWI</th>\n",
       "      <th>Intel</th>\n",
       "      <td>638</td>\n",
       "    </tr>\n",
       "    <tr>\n",
       "      <th>Colorful</th>\n",
       "      <th>Intel</th>\n",
       "      <td>135</td>\n",
       "    </tr>\n",
       "    <tr>\n",
       "      <th rowspan=\"2\" valign=\"top\">DELL</th>\n",
       "      <th>Intel</th>\n",
       "      <td>939</td>\n",
       "    </tr>\n",
       "    <tr>\n",
       "      <th>AMD</th>\n",
       "      <td>110</td>\n",
       "    </tr>\n",
       "    <tr>\n",
       "      <th>GIGABYTE</th>\n",
       "      <th>Intel</th>\n",
       "      <td>4</td>\n",
       "    </tr>\n",
       "    <tr>\n",
       "      <th rowspan=\"4\" valign=\"top\">HP</th>\n",
       "      <th>Intel</th>\n",
       "      <td>3819</td>\n",
       "    </tr>\n",
       "    <tr>\n",
       "      <th>AMD</th>\n",
       "      <td>2219</td>\n",
       "    </tr>\n",
       "    <tr>\n",
       "      <th>MediaTek MT8183</th>\n",
       "      <td>200</td>\n",
       "    </tr>\n",
       "    <tr>\n",
       "      <th>MediaTek Kompanio 1200</th>\n",
       "      <td>6</td>\n",
       "    </tr>\n",
       "    <tr>\n",
       "      <th>Infinix</th>\n",
       "      <th>Intel</th>\n",
       "      <td>780</td>\n",
       "    </tr>\n",
       "    <tr>\n",
       "      <th rowspan=\"4\" valign=\"top\">Lenovo</th>\n",
       "      <th>Intel</th>\n",
       "      <td>1845</td>\n",
       "    </tr>\n",
       "    <tr>\n",
       "      <th>AMD</th>\n",
       "      <td>991</td>\n",
       "    </tr>\n",
       "    <tr>\n",
       "      <th>MediaTek Kompanio 520</th>\n",
       "      <td>210</td>\n",
       "    </tr>\n",
       "    <tr>\n",
       "      <th>Qualcomm</th>\n",
       "      <td>5</td>\n",
       "    </tr>\n",
       "    <tr>\n",
       "      <th rowspan=\"2\" valign=\"top\">MSI</th>\n",
       "      <th>Intel</th>\n",
       "      <td>1330</td>\n",
       "    </tr>\n",
       "    <tr>\n",
       "      <th>AMD</th>\n",
       "      <td>462</td>\n",
       "    </tr>\n",
       "    <tr>\n",
       "      <th rowspan=\"2\" valign=\"top\">Primebook</th>\n",
       "      <th>MediaTek MT8183</th>\n",
       "      <td>100</td>\n",
       "    </tr>\n",
       "    <tr>\n",
       "      <th>MediaTek MT8788</th>\n",
       "      <td>100</td>\n",
       "    </tr>\n",
       "    <tr>\n",
       "      <th>SAMSUNG</th>\n",
       "      <th>Intel</th>\n",
       "      <td>551</td>\n",
       "    </tr>\n",
       "    <tr>\n",
       "      <th>Thomson</th>\n",
       "      <th>Intel</th>\n",
       "      <td>2</td>\n",
       "    </tr>\n",
       "    <tr>\n",
       "      <th>Ultimus</th>\n",
       "      <th>Intel</th>\n",
       "      <td>218</td>\n",
       "    </tr>\n",
       "    <tr>\n",
       "      <th>ZEBRONICS</th>\n",
       "      <th>Intel</th>\n",
       "      <td>300</td>\n",
       "    </tr>\n",
       "    <tr>\n",
       "      <th>realme</th>\n",
       "      <th>Intel</th>\n",
       "      <td>100</td>\n",
       "    </tr>\n",
       "    <tr>\n",
       "      <th>walker</th>\n",
       "      <th>Intel</th>\n",
       "      <td>100</td>\n",
       "    </tr>\n",
       "  </tbody>\n",
       "</table>\n",
       "</div>"
      ],
      "text/plain": [
       "                                   count\n",
       "Brand_name Processor                    \n",
       "ASUS       Intel                    3317\n",
       "           AMD                      1556\n",
       "           Qualcomm                    2\n",
       "AXL        Intel                      33\n",
       "Acer       Intel                    2500\n",
       "           AMD                       942\n",
       "Apple      M2                        500\n",
       "           M3                         96\n",
       "Avita      Intel                       3\n",
       "CHUWI      Intel                     638\n",
       "Colorful   Intel                     135\n",
       "DELL       Intel                     939\n",
       "           AMD                       110\n",
       "GIGABYTE   Intel                       4\n",
       "HP         Intel                    3819\n",
       "           AMD                      2219\n",
       "           MediaTek MT8183           200\n",
       "           MediaTek Kompanio 1200      6\n",
       "Infinix    Intel                     780\n",
       "Lenovo     Intel                    1845\n",
       "           AMD                       991\n",
       "           MediaTek Kompanio 520     210\n",
       "           Qualcomm                    5\n",
       "MSI        Intel                    1330\n",
       "           AMD                       462\n",
       "Primebook  MediaTek MT8183           100\n",
       "           MediaTek MT8788           100\n",
       "SAMSUNG    Intel                     551\n",
       "Thomson    Intel                       2\n",
       "Ultimus    Intel                     218\n",
       "ZEBRONICS  Intel                     300\n",
       "realme     Intel                     100\n",
       "walker     Intel                     100"
      ]
     },
     "execution_count": 544,
     "metadata": {},
     "output_type": "execute_result"
    }
   ],
   "source": [
    "brand_wise_processor = pd.DataFrame(df.groupby('Brand_name')['Processor'].value_counts())\n",
    "\n",
    "brand_wise_processor"
   ]
  },
  {
   "cell_type": "code",
   "execution_count": 537,
   "metadata": {},
   "outputs": [
    {
     "data": {
      "text/plain": [
       "Processor\n",
       "Intel                     16614\n",
       "AMD                        6280\n",
       "M2                          500\n",
       "MediaTek MT8183             300\n",
       "MediaTek Kompanio 520       210\n",
       "MediaTek MT8788             100\n",
       "M3                           96\n",
       "Qualcomm                      7\n",
       "MediaTek Kompanio 1200        6\n",
       "Name: count, dtype: int64"
      ]
     },
     "execution_count": 537,
     "metadata": {},
     "output_type": "execute_result"
    }
   ],
   "source": [
    "df['Processor'].value_counts()"
   ]
  },
  {
   "cell_type": "code",
   "execution_count": 510,
   "metadata": {},
   "outputs": [
    {
     "data": {
      "text/plain": [
       "<Axes: xlabel='Avg_rating_product', ylabel='Count'>"
      ]
     },
     "execution_count": 510,
     "metadata": {},
     "output_type": "execute_result"
    },
    {
     "data": {
      "image/png": "[encoded data removed]",
      "text/plain": [
       "<Figure size 2000x800 with 1 Axes>"
      ]
     },
     "metadata": {},
     "output_type": "display_data"
    }
   ],
   "source": [
    "plt.figure(figsize=(20,8))\n",
    "sns.histplot(x = 'Avg_rating_product', data = df,kde = True)"
   ]
  },
  {
   "cell_type": "code",
   "execution_count": 511,
   "metadata": {},
   "outputs": [
    {
     "data": {
      "text/plain": [
       "<Axes: xlabel='Brand_name', ylabel='Avg_rating_product'>"
      ]
     },
     "execution_count": 511,
     "metadata": {},
     "output_type": "execute_result"
    },
    {
     "data": {
      "image/png": "[encoded data removed]",
      "text/plain": [
       "<Figure size 2000x800 with 1 Axes>"
      ]
     },
     "metadata": {},
     "output_type": "display_data"
    }
   ],
   "source": [
    "plt.figure(figsize=(20,8))\n",
    "sns.barplot(x = 'Brand_name', y = 'Avg_rating_product', data = df, palette = 'Set2')"
   ]
  },
  {
   "cell_type": "markdown",
   "metadata": {},
   "source": [
    "### For apple"
   ]
  },
  {
   "cell_type": "code",
   "execution_count": 512,
   "metadata": {},
   "outputs": [],
   "source": [
    "# df_apple = df[(df['Brannd_name']=='Apple')]\n",
    "\n",
    "# df_apple['series'] = df['Product_split'].apply(lambda x:x[1])\n",
    "\n",
    "# df_apple['Processor'] = df['Product_split'].apply(lambda x: str('Apple')+str(' ')+ x[4])\n",
    "\n",
    "# df_apple['RAM'] = df['Product_split'].apply(lambda x: x[6].strip(\"()\") +str(' ')+ str('GB'))\n",
    "\n",
    "# df_apple['Storage'] = df['Product_split'].apply(lambda x: x[7].strip(\"(/GB)\") +str(' ')+ str('GB') + str('SSD'))\n",
    "\n",
    "# df_apple['OS'] = df['Product_split'].apply(lambda x: \" \".join([word for word in x if  \"OS\" in word or \"Monterey\" in word]).strip(\"()...)\"))\n",
    "\n",
    "# df_apple\n",
    "   "
   ]
  },
  {
   "cell_type": "code",
   "execution_count": 513,
   "metadata": {},
   "outputs": [],
   "source": [
    "# df_HP = df[(df['Brannd_name']=='HP')]\n",
    "\n",
    "# df_HP['series'] = df['Product_split'].apply(lambda x:x[1])\n",
    "\n",
    "# df_HP['Processor'] = df['Product_split'].apply(lambda x: \" \".join(x[2:8]).strip(\"()\"))\n",
    "\n",
    "# df_HP['RAM'] = df['Product_split'].apply(lambda x: x[9].strip(\"()\") +str(' ')+ str('GB'))\n",
    "\n",
    "# df_HP['Storage'] = df['Product_split'].apply(lambda x: x[-3].strip(\"(GB/)\")+str(' ')  + str('GB') + str('SSD'))\n",
    "\n",
    "# df_HP['OS'] = 'Windows'\n",
    "\n"
   ]
  },
  {
   "cell_type": "code",
   "execution_count": 514,
   "metadata": {},
   "outputs": [],
   "source": [
    "# df_DELL = df[(df['Brannd_name']=='DELL')]\n",
    "\n",
    "# df_DELL['series'] = df['Product_split'].apply(lambda x:\" \".join(x[1:3]))\n",
    "\n",
    "# df_DELL['Processor'] = df['Product_split'].apply(lambda x: \" \".join(x[2:8]).strip(\"()\"))\n",
    "\n",
    "# df_DELL['RAM'] = df['Product_split'].apply(lambda x: x[-3].strip(\"()\") +str(' ')+ str('GB'))\n",
    "\n",
    "# df_DELL['Storage'] = df['Product_split'].apply(lambda x: x[-2].strip(\"(GB/)\")+str(' ')  + str('GB') + str('SSD'))\n",
    "\n",
    "# df_DELL['OS'] = 'Windows'"
   ]
  },
  {
   "cell_type": "code",
   "execution_count": 515,
   "metadata": {},
   "outputs": [],
   "source": [
    "# df_LENOVO = df[(df['Brannd_name']=='Lenovo')]\n",
    "\n",
    "# df_LENOVO['series'] = df['Product_split'].apply(lambda x:\"\".join(x[1]))\n",
    "\n",
    "# df_LENOVO['Processor'] = df['Product_split'].apply(lambda x: \" \".join(x[2:5]).strip(\"()\"))\n",
    "\n",
    "# df_LENOVO['RAM'] = df['Product_split'].apply(lambda x: x[-5].strip(\"()\") +str(' ')+ str('GB'))\n",
    "\n",
    "# df_LENOVO['Storage'] = df['Product_split'].apply(lambda x: ''.join(x[7:10]).strip(\"(GB/)\"))\n",
    "\n",
    "# df_LENOVO['OS'] = df['Product_split'].apply(lambda x: \" \".join([word for word in x if 'Chromebook' in word or 'Windows' in word]))\n",
    "\n",
    "# df_LENOVO"
   ]
  }
 ],
 "metadata": {
  "kernelspec": {
   "display_name": "Python 3",
   "language": "python",
   "name": "python3"
  },
  "language_info": {
   "codemirror_mode": {
    "name": "ipython",
    "version": 3
   },
   "file_extension": ".py",
   "mimetype": "text/x-python",
   "name": "python",
   "nbconvert_exporter": "python",
   "pygments_lexer": "ipython3",
   "version": "3.11.9"
  }
 },
 "nbformat": 4,
 "nbformat_minor": 2
}
